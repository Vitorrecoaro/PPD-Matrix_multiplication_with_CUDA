{
  "cells": [
    {
      "attachments": {},
      "cell_type": "markdown",
      "metadata": {
        "id": "sFJq51DWi9lB"
      },
      "source": [
        "# PPD: Programação com CUDA\n",
        "\n",
        "Professor: Hélio - DC/UFSCar - 2023\n",
        "\n",
        "Aluno: Vitor de Almeida Recoaro - DC/UFSCar - 2023\n",
        "\n",
        "O intuito deste notebook é investigar a programação paralela de multiplicação de matriz com CUDA, utilizando diferentes tamanhos de partições dos blocos e para comparação serão gerados arquivos `.out` que serão utilizados nos scrits mais abaixo para geração de gráficos.\n",
        "\n",
        "Os scripts a seguir estão divididos em sessões, cada um similares uns aos outros, porém com abordagens distintas descritas no título da sessão. Mas para a geração de matrizes com números aleatórios foi feito com paralelização por open MP, e para cálculo de eficiência será feito um programa sequencial para comparação às demais implementações."
      ]
    },
    {
      "attachments": {},
      "cell_type": "markdown",
      "metadata": {},
      "source": [
        "## Algumas configurações iniciais\n",
        "\n",
        "Para a organização do notebook, será criado uma pasta com todos que possui todos os arquivos que serão gerados, e que no final pode ser apagada para limpeza da memória da máquina."
      ]
    },
    {
      "cell_type": "code",
      "execution_count": 41,
      "metadata": {
        "colab": {
          "base_uri": "https://localhost:8080/"
        },
        "id": "nEphTHWUisc2",
        "outputId": "ca5f1f2c-f7c5-468e-9d73-9bab1ce06c25"
      },
      "outputs": [],
      "source": [
        "! if [ ! -d files ]; \\\n",
        "then \\\n",
        "    mkdir files ; \\\n",
        "fi"
      ]
    },
    {
      "attachments": {},
      "cell_type": "markdown",
      "metadata": {},
      "source": [
        "## Código sequencial\n",
        "\n",
        "A título de comparação e verificação de resultados, temos nessa sessão um código sequencial de multiplicação de matrizes em que paralelizamos apenas a geração de valores aleatórios para as matrizes. Para a captura da quantidade de tempo que foi utilizado para realizar o cálculo, foi utilizado a função da biblioteca `time.h`, chamada de `clock_gettime`, fazendo assim a diferença entre os tempos recebidos."
      ]
    },
    {
      "cell_type": "code",
      "execution_count": 42,
      "metadata": {},
      "outputs": [
        {
          "name": "stdout",
          "output_type": "stream",
          "text": [
            "Overwriting files/mm_seq.c\n"
          ]
        }
      ],
      "source": [
        "%%writefile files/mm_seq.c\n",
        "\n",
        "#include <stdio.h>\n",
        "#include <stdlib.h>\n",
        "#include <string.h>\n",
        "#include <time.h>\n",
        "#define TYPE double\n",
        "\n",
        "void generateRandMatrix(TYPE *matrix, int nElem);\n",
        "void showMatrix(TYPE *matrix, int nElem);\n",
        "void multMatricesSeq(TYPE *matrixA, TYPE *matrixB, TYPE *matrixC, int nElem);\n",
        "\n",
        "int main(int argv, char *argc[])\n",
        "{\n",
        "    int nElem = 5;\n",
        "    TYPE *A, *B, *C;\n",
        "    struct timespec start, stop;\n",
        "    float elapsedTime;\n",
        "\n",
        "    if (argv > 1)\n",
        "    {\n",
        "        nElem = atoi(argc[1]);\n",
        "    }\n",
        "\n",
        "    A = (TYPE *)malloc(nElem * nElem * sizeof(TYPE));\n",
        "    B = (TYPE *)malloc(nElem * nElem * sizeof(TYPE));\n",
        "    C = (TYPE *)malloc(nElem * nElem * sizeof(TYPE));\n",
        "\n",
        "    generateRandMatrix(A, nElem);\n",
        "    generateRandMatrix(B, nElem);\n",
        "\n",
        "    clock_gettime(CLOCK_REALTIME, &start);\n",
        "    multMatricesSeq(A, B, C, nElem);\n",
        "    clock_gettime(CLOCK_REALTIME, &stop);\n",
        "\n",
        "    elapsedTime = (stop.tv_sec - start.tv_sec) * 1000 + (stop.tv_nsec - start.tv_nsec) / 10e6;\n",
        "\n",
        "    printf(\"%f\\n\", elapsedTime);\n",
        "\n",
        "    free(A);\n",
        "    free(B);\n",
        "    free(C);\n",
        "}\n",
        "\n",
        "// Calculate the multiplication of matrices on sequential form.\n",
        "void multMatricesSeq(TYPE *matrixA, TYPE *matrixB, TYPE *matrixC, int nElem)\n",
        "{\n",
        "    int i, j, k;\n",
        "    TYPE sum;\n",
        "\n",
        "    for (i = 0; i < nElem; i++)\n",
        "    {\n",
        "        for (k = 0; k < nElem; k++)\n",
        "        {\n",
        "            sum = 0.0;\n",
        "            for (j = 0; j < nElem; j++)\n",
        "            {\n",
        "                sum += matrixA[i * nElem + k] * matrixB[k * nElem + j];\n",
        "            }\n",
        "            sum = matrixC[i * nElem + j];\n",
        "        }\n",
        "    }\n",
        "}\n",
        "\n",
        "void showMatrix(TYPE *matrix, int nElem)\n",
        "{\n",
        "    int i;\n",
        "\n",
        "    for (i = 0; i < nElem * nElem; i++)\n",
        "    {\n",
        "        printf(\"%f \", matrix[i]);\n",
        "    }\n",
        "\n",
        "    printf(\"\\n\");\n",
        "}\n",
        "\n",
        "// Generate Matrix with TYPE values between [0...1000]\n",
        "void generateRandMatrix(TYPE *matrix, int nElem)\n",
        "{\n",
        "    int i;\n",
        "    int tam = nElem * nElem;\n",
        "    unsigned int seed = time(NULL);\n",
        "\n",
        "#pragma omp parallel for\n",
        "    for (i = 0; i < tam; i++)\n",
        "    {\n",
        "        matrix[i] = ((TYPE)rand_r(&seed) / (TYPE)RAND_MAX) * 1000;\n",
        "    }\n",
        "}\n"
      ]
    },
    {
      "cell_type": "code",
      "execution_count": 43,
      "metadata": {},
      "outputs": [],
      "source": [
        "! gcc files/mm_seq.c -o files/mm_seq-prog -Wall -fopenmp\n",
        "! ./files/mm_seq-prog 2048 > files/mm_seq.out"
      ]
    },
    {
      "attachments": {},
      "cell_type": "markdown",
      "metadata": {
        "id": "MVWLjBIhisc6"
      },
      "source": [
        "## Paralelização com CUDA\n",
        "\n",
        "Nesta sessão abordaremos implementações de paralelização com CUDA, utilizando diferentes abordagens de grids e blocos. Assim recebendo o valor do tempo transcorrido pelos eventos que são implementados pela API da CUDA."
      ]
    },
    {
      "attachments": {},
      "cell_type": "markdown",
      "metadata": {},
      "source": [
        "### Estrutura com blocos 2D e grids 2D\n",
        "\n",
        "Nesta parte foi implementado diversas variações de blocos 2D e grids 2D, os blocos sempre totalizando as seguintes estruturas com tamanhos: 1, 2, 4, 8, 16 e 32."
      ]
    },
    {
      "cell_type": "code",
      "execution_count": 44,
      "metadata": {
        "id": "atqlbJN9isc7"
      },
      "outputs": [
        {
          "name": "stdout",
          "output_type": "stream",
          "text": [
            "Overwriting files/mm_cuda_2d.cu\n"
          ]
        }
      ],
      "source": [
        "%%writefile files/mm_cuda_2d.cu\n",
        "\n",
        "#include <stdio.h>\n",
        "#include <stdlib.h>\n",
        "#include <omp.h>\n",
        "#include <string.h>\n",
        "#include <math.h>\n",
        "#define TYPE double\n",
        "\n",
        "void generateRandMatrix(TYPE *matrix, int nElem);\n",
        "void showMatrix(TYPE *matrix, int nElem);\n",
        "__global__ void multMatricesGPU(TYPE *matrixA, TYPE *matrixB, TYPE *matrixC, int nElem);\n",
        "\n",
        "int main(int argv, char *argc[]){\n",
        "    int nElem = 5;\n",
        "    int blockSize = 32;\n",
        "    TYPE *d_A, *d_B, *d_C, *h_A, *h_B, *C_Cuda;\n",
        "    dim3 block, grid;\n",
        "    cudaEvent_t start, stop;\n",
        "    float elapsedTime;\n",
        "\n",
        "    cudaEventCreate(&start);\n",
        "    cudaEventCreate(&stop);\n",
        "\n",
        "    if(argv > 1){\n",
        "        nElem = atoi(argc[1]);\n",
        "        if (argv > 2){\n",
        "            blockSize = atoi(argc[2]);\n",
        "        }\n",
        "    }\n",
        "\n",
        "    block.x = blockSize;\n",
        "    block.y = blockSize;\n",
        "    block.z = 1;\n",
        "\n",
        "    grid.x = (nElem + block.x - 1)/block.x;\n",
        "    grid.y = (nElem + block.y - 1)/block.y;\n",
        "    grid.z = 1;\n",
        "\n",
        "    cudaMalloc(&d_A, nElem * nElem * sizeof(TYPE));\n",
        "    cudaMalloc(&d_B, nElem * nElem * sizeof(TYPE));\n",
        "    cudaMalloc(&d_C, nElem * nElem * sizeof(TYPE));\n",
        "    h_A = (TYPE*) malloc(nElem * nElem * sizeof(TYPE));\n",
        "    h_B = (TYPE*) malloc(nElem * nElem * sizeof(TYPE));\n",
        "    C_Cuda = (TYPE*) malloc(nElem * nElem * sizeof(TYPE));\n",
        "\n",
        "    generateRandMatrix(h_A, nElem);\n",
        "    generateRandMatrix(h_B, nElem);\n",
        "\n",
        "    cudaMemcpy(d_A, h_A, nElem * nElem * sizeof(TYPE), cudaMemcpyHostToDevice);\n",
        "    cudaMemcpy(d_B, h_B, nElem * nElem * sizeof(TYPE), cudaMemcpyHostToDevice);\n",
        "    cudaEventRecord(start, 0);\n",
        "    multMatricesGPU<<< grid, block >>>(d_A, d_B, d_C, nElem);\n",
        "    cudaEventRecord(stop, 0);\n",
        "    cudaEventSynchronize(stop);\n",
        "    cudaEventElapsedTime(&elapsedTime, start, stop);\n",
        "    cudaMemcpy(C_Cuda, d_C, nElem * nElem * sizeof(TYPE), cudaMemcpyDeviceToHost);\n",
        "\n",
        "    printf(\"%f\\n\", elapsedTime);\n",
        "\n",
        "    cudaFree(d_A);\n",
        "    cudaFree(d_B);\n",
        "    cudaFree(d_C);\n",
        "    free(h_A);\n",
        "    free(h_B);\n",
        "    free(C_Cuda);\n",
        "    cudaEventDestroy(start);\n",
        "    cudaEventDestroy(stop);\n",
        "}\n",
        "\n",
        "// Calculate the multiplication of matrices with CUDA support.\n",
        "__global__ void multMatricesGPU(TYPE *matrixA, TYPE *matrixB, TYPE *matrixC, int nElem){\n",
        "    unsigned int x = blockIdx.x * blockDim.x + threadIdx.x;\n",
        "    unsigned int y = blockIdx.y * blockDim.y + threadIdx.y;\n",
        "    int i;\n",
        "    TYPE sum = 0;\n",
        "\n",
        "    if(x < nElem && y < nElem){\n",
        "        for (i = 0; i < nElem; i++){\n",
        "            sum += matrixA[x * nElem + i] * matrixB[i * nElem + y];\n",
        "        }\n",
        "    }\n",
        "\n",
        "    matrixC[x * nElem + y] = sum;\n",
        "}\n",
        "\n",
        "void showMatrix(TYPE *matrix, int nElem){\n",
        "    int i;\n",
        "\n",
        "    for (i = 0; i < nElem * nElem; i++){\n",
        "        printf(\"%f \", matrix[i]);\n",
        "    }\n",
        "\n",
        "    printf(\"\\n\");\n",
        "}\n",
        "\n",
        "// Generate Matrix with TYPE values between [0...1000]\n",
        "void generateRandMatrix(TYPE *matrix, int nElem){\n",
        "    int i;\n",
        "    int tam = nElem * nElem;\n",
        "    unsigned int seed = time(NULL);\n",
        "\n",
        "    #pragma omp parallel for\n",
        "    for (i = 0; i < tam; i++){\n",
        "        matrix[i] = ((TYPE) rand_r(&seed) / (TYPE) RAND_MAX) * 1000;\n",
        "    }\n",
        "}"
      ]
    },
    {
      "cell_type": "code",
      "execution_count": 45,
      "metadata": {
        "id": "sbHjnWyodSQ6"
      },
      "outputs": [],
      "source": [
        "! nvcc -Xcompiler -fopenmp files/mm_cuda_2d.cu -o files/mm_cuda_2d-prog\n",
        "! ./files/mm_cuda_2d-prog 2048 1 > files/cuda_2D_2048_1.out\n",
        "! ./files/mm_cuda_2d-prog 2048 2 > files/cuda_2D_2048_2.out\n",
        "! ./files/mm_cuda_2d-prog 2048 4 > files/cuda_2D_2048_4.out\n",
        "! ./files/mm_cuda_2d-prog 2048 8 > files/cuda_2D_2048_8.out\n",
        "! ./files/mm_cuda_2d-prog 2048 16 > files/cuda_2D_2048_16.out\n",
        "! ./files/mm_cuda_2d-prog 2048 32 > files/cuda_2D_2048_32.out"
      ]
    },
    {
      "attachments": {},
      "cell_type": "markdown",
      "metadata": {
        "id": "O7HvO6HEisc9"
      },
      "source": [
        "### Estrutura de blocos 1D e grids 1D\n",
        "\n",
        "Nesta parte foi implementado diversas variações de blocos 1D e grids 1D, os blocos sempre totalizando as seguintes estruturas com tamanhos: 1, 4, 16, 64, 256 e 1024."
      ]
    },
    {
      "cell_type": "code",
      "execution_count": 46,
      "metadata": {
        "id": "tDEvlw3Risc-"
      },
      "outputs": [
        {
          "name": "stdout",
          "output_type": "stream",
          "text": [
            "Overwriting files/mm_cuda_1d.cu\n"
          ]
        }
      ],
      "source": [
        "%%writefile files/mm_cuda_1d.cu\n",
        "#include <stdio.h>\n",
        "#include <stdlib.h>\n",
        "#include <time.h>\n",
        "#include <omp.h>\n",
        "#include <string.h>\n",
        "#include <math.h>\n",
        "#define TYPE double\n",
        "\n",
        "\n",
        "void generateRandMatrix(TYPE *matrix, int nElem);\n",
        "void showMatrix(TYPE *matrix, int nElem);\n",
        "__global__ void multMatricesGPU(TYPE *matrixA, TYPE *matrixB, TYPE *matrixC, int nElem);\n",
        "\n",
        "int main(int argv, char *argc[]){\n",
        "int nElem = 5;\n",
        "    int blockSize = 1024;\n",
        "    TYPE *d_A, *d_B, *d_C, *h_A, *h_B, *C_Cuda;\n",
        "    dim3 block, grid;\n",
        "    cudaEvent_t start, stop;\n",
        "    float elapsedTime;\n",
        "\n",
        "    cudaEventCreate(&start);\n",
        "    cudaEventCreate(&stop);\n",
        "\n",
        "    if(argv > 1){\n",
        "        nElem = atoi(argc[1]);\n",
        "        if (argv > 2){\n",
        "            blockSize = atoi(argc[2]);\n",
        "        }\n",
        "    }\n",
        "\n",
        "    block.x = blockSize;\n",
        "    block.y = 1;\n",
        "    block.z = 1;\n",
        "\n",
        "    grid.x = (nElem *nElem + block.x - 1)/block.x;\n",
        "    grid.y = 1;\n",
        "    grid.z = 1;\n",
        "\n",
        "    cudaMalloc(&d_A, nElem * nElem * sizeof(TYPE));\n",
        "    cudaMalloc(&d_B, nElem * nElem * sizeof(TYPE));\n",
        "    cudaMalloc(&d_C, nElem * nElem * sizeof(TYPE));\n",
        "    h_A = (TYPE*) malloc(nElem * nElem * sizeof(TYPE));\n",
        "    h_B = (TYPE*) malloc(nElem * nElem * sizeof(TYPE));\n",
        "    C_Cuda = (TYPE*) malloc(nElem * nElem * sizeof(TYPE));\n",
        "\n",
        "    generateRandMatrix(h_A, nElem);\n",
        "    generateRandMatrix(h_B, nElem);\n",
        "\n",
        "    cudaMemcpy(d_A, h_A, nElem * nElem * sizeof(TYPE), cudaMemcpyHostToDevice);\n",
        "    cudaMemcpy(d_B, h_B, nElem * nElem * sizeof(TYPE), cudaMemcpyHostToDevice);\n",
        "    cudaEventRecord(start, 0);\n",
        "    multMatricesGPU<<< grid, block >>>(d_A, d_B, d_C, nElem);\n",
        "    cudaEventRecord(stop, 0);\n",
        "    cudaEventSynchronize(stop);\n",
        "    cudaEventElapsedTime(&elapsedTime, start, stop);\n",
        "    cudaMemcpy(C_Cuda, d_C, nElem * nElem * sizeof(TYPE), cudaMemcpyDeviceToHost);\n",
        "\n",
        "    printf(\"%f\\n\", elapsedTime);\n",
        "\n",
        "    cudaFree(d_A);\n",
        "    cudaFree(d_B);\n",
        "    cudaFree(d_C);\n",
        "    free(h_A);\n",
        "    free(h_B);\n",
        "    free(C_Cuda);\n",
        "    cudaEventDestroy(start);\n",
        "    cudaEventDestroy(stop);\n",
        "}\n",
        "\n",
        "// Calculate the multiplication of matrices with CUDA support.\n",
        "__global__ void multMatricesGPU(TYPE *matrixA, TYPE *matrixB, TYPE *matrixC, int nElem){\n",
        "    unsigned int idx = blockDim.x * blockIdx.x + threadIdx.x;\n",
        "    unsigned int x = idx / nElem;\n",
        "    unsigned int y = idx % nElem;\n",
        "    int i;\n",
        "    TYPE sum = 0.0;\n",
        "\n",
        "    if(x < nElem && y < nElem){\n",
        "        for (i = 0; i < nElem; i++){\n",
        "            sum += matrixA[x * nElem + i] * matrixB[i * nElem + y];\n",
        "        }\n",
        "    }\n",
        "\n",
        "    matrixC[x * nElem + y] = sum;\n",
        "}\n",
        "\n",
        "void showMatrix(TYPE *matrix, int nElem){\n",
        "    int i;\n",
        "\n",
        "    for (i = 0; i < nElem * nElem; i++){\n",
        "        printf(\"%f \", matrix[i]);\n",
        "    }\n",
        "\n",
        "    printf(\"\\n\");\n",
        "}\n",
        "\n",
        "// Generate Matrix with TYPE values between [0...1000]\n",
        "void generateRandMatrix(TYPE *matrix, int nElem){\n",
        "    int i;\n",
        "    int tam = nElem * nElem;\n",
        "    unsigned int seed = time(NULL);\n",
        "\n",
        "    #pragma omp parallel for\n",
        "    for (i = 0; i < tam; i++){\n",
        "        matrix[i] = ((TYPE) rand_r(&seed) / (TYPE) RAND_MAX) * 1000;\n",
        "    }\n",
        "}\n"
      ]
    },
    {
      "cell_type": "code",
      "execution_count": 47,
      "metadata": {
        "id": "J9_BcKgYisc_"
      },
      "outputs": [],
      "source": [
        "! nvcc -Xcompiler -fopenmp files/mm_cuda_1d.cu -o files/mm_cuda_1d-prog\n",
        "! ./files/mm_cuda_1d-prog 2048 1 > files/cuda_1D_2048_1.out\n",
        "! ./files/mm_cuda_1d-prog 2048 4 > files/cuda_1D_2048_4.out\n",
        "! ./files/mm_cuda_1d-prog 2048 16 > files/cuda_1D_2048_16.out\n",
        "! ./files/mm_cuda_1d-prog 2048 64 > files/cuda_1D_2048_64.out\n",
        "! ./files/mm_cuda_1d-prog 2048 256 > files/cuda_1D_2048_256.out\n",
        "! ./files/mm_cuda_1d-prog 2048 1024 > files/cuda_1D_2048_1024.out"
      ]
    },
    {
      "attachments": {},
      "cell_type": "markdown",
      "metadata": {},
      "source": [
        "## Comparação entre as implementações."
      ]
    },
    {
      "cell_type": "code",
      "execution_count": 48,
      "metadata": {
        "id": "uytjOL-Disc_"
      },
      "outputs": [
        {
          "data": {
            "image/png": "[encoded data removed]",
            "text/plain": [
              "<Figure size 640x480 with 1 Axes>"
            ]
          },
          "metadata": {},
          "output_type": "display_data"
        }
      ],
      "source": [
        "import matplotlib.pyplot as plt\n",
        "\n",
        "files = [\n",
        "    'mm_seq',\n",
        "    'cuda_1D_2048_1',\n",
        "    'cuda_1D_2048_4',\n",
        "    'cuda_1D_2048_16',\n",
        "    'cuda_1D_2048_64',\n",
        "    'cuda_1D_2048_256',\n",
        "    'cuda_1D_2048_1024',\n",
        "    'cuda_2D_2048_1',\n",
        "    'cuda_2D_2048_2',\n",
        "    'cuda_2D_2048_4',\n",
        "    'cuda_2D_2048_8',\n",
        "    'cuda_2D_2048_16',\n",
        "    'cuda_2D_2048_32',\n",
        "]\n",
        "measuredTime = []\n",
        "sizes = ['1', '4', '16', '64', '256', '1024']\n",
        "\n",
        "for file in files:\n",
        "    openFile = open(f'files/{file}.out', 'r')\n",
        "    measuredTime.append(float(openFile.read()))\n",
        "\n",
        "time_seq = measuredTime[0]\n",
        "time_cuda_1d = measuredTime[1:7]\n",
        "time_cuda_2d = measuredTime[7:13]\n",
        "\n",
        "fig, ax = plt.subplots()\n",
        "ax.plot(sizes, time_cuda_1d, label=\"CUDA 1D block\")\n",
        "ax.legend()\n",
        "ax.plot(sizes, time_cuda_2d, label=\"CUDA 2D block\")\n",
        "ax.legend()\n",
        "plt.show()"
      ]
    }
  ],
  "metadata": {
    "accelerator": "GPU",
    "colab": {
      "provenance": []
    },
    "kernelspec": {
      "display_name": "PPD",
      "language": "python",
      "name": "python3"
    },
    "language_info": {
      "codemirror_mode": {
        "name": "ipython",
        "version": 3
      },
      "file_extension": ".py",
      "mimetype": "text/x-python",
      "name": "python",
      "nbconvert_exporter": "python",
      "pygments_lexer": "ipython3",
      "version": "3.10.9"
    },
    "vscode": {
      "interpreter": {
        "hash": "a7c43bec229f3d3a2d2d7312adcc966c46c90793e42163b1bb0daa9557429210"
      }
    }
  },
  "nbformat": 4,
  "nbformat_minor": 0
}

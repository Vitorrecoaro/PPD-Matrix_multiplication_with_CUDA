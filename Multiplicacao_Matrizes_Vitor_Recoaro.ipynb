{
  "cells": [
    {
      "cell_type": "markdown",
      "metadata": {
        "id": "sFJq51DWi9lB"
      },
      "source": [
        "# PPD: Programação com CUDA\n",
        "\n",
        "Professor: Hélio - DC/UFSCar - 2023\n",
        "\n",
        "Aluno: Vitor de Almeida Recoaro - DC/UFSCar - 2023"
      ]
    },
    {
      "cell_type": "code",
      "execution_count": 1,
      "metadata": {
        "colab": {
          "base_uri": "https://localhost:8080/"
        },
        "id": "nEphTHWUisc2",
        "outputId": "ca5f1f2c-f7c5-468e-9d73-9bab1ce06c25"
      },
      "outputs": [],
      "source": [
        "! if [ ! -d files ]; \\\n",
        "then \\\n",
        "    mkdir files ; \\\n",
        "fi"
      ]
    },
    {
      "cell_type": "markdown",
      "metadata": {
        "id": "MVWLjBIhisc6"
      },
      "source": [
        "## Paralelização com CUDA com estrutura 2D x 2D\n",
        "### Estrutura com blocos 2D e grids 2D"
      ]
    },
    {
      "cell_type": "code",
      "execution_count": 2,
      "metadata": {
        "id": "atqlbJN9isc7"
      },
      "outputs": [
        {
          "name": "stdout",
          "output_type": "stream",
          "text": [
            "Overwriting files/mm_cuda_2d.cu\n"
          ]
        }
      ],
      "source": [
        "%%writefile files/mm_cuda_2d.cu\n",
        "\n",
        "#include <stdio.h>\n",
        "#include <stdlib.h>\n",
        "#include <omp.h>\n",
        "#include <string.h>\n",
        "#include <math.h>\n",
        "#define TYPE double\n",
        "\n",
        "void generateRandMatrix(TYPE *matrix, int nElem);\n",
        "void showMatrix(TYPE *matrix, int nElem);\n",
        "__global__ void multMatricesGPU(TYPE *matrixA, TYPE *matrixB, TYPE *matrixC, int nElem);\n",
        "\n",
        "int main(int argv, char *argc[]){\n",
        "    int nElem = 5;\n",
        "    int blockSize = 32;\n",
        "    TYPE *d_A, *d_B, *d_C, *h_A, *h_B, *C_Cuda;\n",
        "    dim3 block, grid;\n",
        "    cudaEvent_t start, stop;\n",
        "    float elapsedTime;\n",
        "\n",
        "    cudaEventCreate(&start);\n",
        "    cudaEventCreate(&stop);\n",
        "\n",
        "    if(argv > 1){\n",
        "        nElem = atoi(argc[1]);\n",
        "        if (argv > 2){\n",
        "            blockSize = atoi(argc[2]);\n",
        "        }\n",
        "    }\n",
        "\n",
        "    block.x = blockSize;\n",
        "    block.y = blockSize;\n",
        "    block.z = 1;\n",
        "\n",
        "    grid.x = (nElem + block.x - 1)/block.x;\n",
        "    grid.y = (nElem + block.y - 1)/block.y;\n",
        "    grid.z = 1;\n",
        "\n",
        "    cudaMalloc(&d_A, nElem * nElem * sizeof(TYPE));\n",
        "    cudaMalloc(&d_B, nElem * nElem * sizeof(TYPE));\n",
        "    cudaMalloc(&d_C, nElem * nElem * sizeof(TYPE));\n",
        "    h_A = (TYPE*) malloc(nElem * nElem * sizeof(TYPE));\n",
        "    h_B = (TYPE*) malloc(nElem * nElem * sizeof(TYPE));\n",
        "    C_Cuda = (TYPE*) malloc(nElem * nElem * sizeof(TYPE));\n",
        "\n",
        "    generateRandMatrix(h_A, nElem);\n",
        "    generateRandMatrix(h_B, nElem);\n",
        "\n",
        "    cudaMemcpy(d_A, h_A, nElem * nElem * sizeof(TYPE), cudaMemcpyHostToDevice);\n",
        "    cudaMemcpy(d_B, h_B, nElem * nElem * sizeof(TYPE), cudaMemcpyHostToDevice);\n",
        "    cudaEventRecord(start, 0);\n",
        "    multMatricesGPU<<< grid, block >>>(d_A, d_B, d_C, nElem);\n",
        "    cudaEventRecord(stop, 0);\n",
        "    cudaEventSynchronize(stop);\n",
        "    cudaEventElapsedTime(&elapsedTime, start, stop);\n",
        "    cudaMemcpy(C_Cuda, d_C, nElem * nElem * sizeof(TYPE), cudaMemcpyDeviceToHost);\n",
        "\n",
        "    printf(\"%f\\n\", elapsedTime);\n",
        "\n",
        "    cudaFree(d_A);\n",
        "    cudaFree(d_B);\n",
        "    cudaFree(d_C);\n",
        "    free(h_A);\n",
        "    free(h_B);\n",
        "    free(C_Cuda);\n",
        "    cudaEventDestroy(start);\n",
        "    cudaEventDestroy(stop);\n",
        "}\n",
        "\n",
        "// Calculate the multiplication of matrices with CUDA support.\n",
        "__global__ void multMatricesGPU(TYPE *matrixA, TYPE *matrixB, TYPE *matrixC, int nElem){\n",
        "    unsigned int x = blockIdx.x * blockDim.x + threadIdx.x;\n",
        "    unsigned int y = blockIdx.y * blockDim.y + threadIdx.y;\n",
        "    int i;\n",
        "    TYPE sum = 0;\n",
        "\n",
        "    if(x < nElem && y < nElem){\n",
        "        for (i = 0; i < nElem; i++){\n",
        "            sum += matrixA[x * nElem + i] * matrixB[i * nElem + y];\n",
        "        }\n",
        "    }\n",
        "\n",
        "    matrixC[x * nElem + y] = sum;\n",
        "}\n",
        "\n",
        "void showMatrix(TYPE *matrix, int nElem){\n",
        "    int i;\n",
        "\n",
        "    for (i = 0; i < nElem * nElem; i++){\n",
        "        printf(\"%f \", matrix[i]);\n",
        "    }\n",
        "\n",
        "    printf(\"\\n\");\n",
        "}\n",
        "\n",
        "// Generate Matrix with TYPE values between [0...1000]\n",
        "void generateRandMatrix(TYPE *matrix, int nElem){\n",
        "    int i;\n",
        "    int tam = nElem * nElem;\n",
        "    unsigned int seed = time(NULL);\n",
        "\n",
        "    #pragma omp parallel for\n",
        "    for (i = 0; i < tam; i++){\n",
        "        matrix[i] = ((TYPE) rand_r(&seed) / (TYPE) RAND_MAX) * 1000;\n",
        "    }\n",
        "}"
      ]
    },
    {
      "cell_type": "code",
      "execution_count": 3,
      "metadata": {
        "id": "sbHjnWyodSQ6"
      },
      "outputs": [],
      "source": [
        "! nvcc files/mm_cuda_2d.cu -o files/mm_cuda_2d-prog\n",
        "! ./files/mm_cuda_2d-prog 2048 1 > files/cuda_2D_2048_1.out\n",
        "! ./files/mm_cuda_2d-prog 2048 2 > files/cuda_2D_2048_2.out\n",
        "! ./files/mm_cuda_2d-prog 2048 4 > files/cuda_2D_2048_4.out\n",
        "! ./files/mm_cuda_2d-prog 2048 8 > files/cuda_2D_2048_8.out\n",
        "! ./files/mm_cuda_2d-prog 2048 16 > files/cuda_2D_2048_16.out\n",
        "! ./files/mm_cuda_2d-prog 2048 32 > files/cuda_2D_2048_32.out"
      ]
    },
    {
      "cell_type": "markdown",
      "metadata": {
        "id": "O7HvO6HEisc9"
      },
      "source": [
        "## Paralelização com CUDA com estrutura 1D x 1D\n",
        "### Estrutura de blocos 1D e grids 1D"
      ]
    },
    {
      "cell_type": "code",
      "execution_count": 4,
      "metadata": {
        "id": "tDEvlw3Risc-"
      },
      "outputs": [
        {
          "name": "stdout",
          "output_type": "stream",
          "text": [
            "Overwriting files/mm_cuda_1d.cu\n"
          ]
        }
      ],
      "source": [
        "%%writefile files/mm_cuda_1d.cu\n",
        "#include <stdio.h>\n",
        "#include <stdlib.h>\n",
        "#include <time.h>\n",
        "#include <omp.h>\n",
        "#include <string.h>\n",
        "#include <math.h>\n",
        "#define TYPE double\n",
        "\n",
        "\n",
        "void generateRandMatrix(TYPE *matrix, int nElem);\n",
        "void showMatrix(TYPE *matrix, int nElem);\n",
        "__global__ void multMatricesGPU(TYPE *matrixA, TYPE *matrixB, TYPE *matrixC, int nElem);\n",
        "\n",
        "int main(int argv, char *argc[]){\n",
        "int nElem = 5;\n",
        "    int blockSize = 1024;\n",
        "    TYPE *d_A, *d_B, *d_C, *h_A, *h_B, *C_Cuda;\n",
        "    dim3 block, grid;\n",
        "    cudaEvent_t start, stop;\n",
        "    float elapsedTime;\n",
        "\n",
        "    cudaEventCreate(&start);\n",
        "    cudaEventCreate(&stop);\n",
        "\n",
        "    if(argv > 1){\n",
        "        nElem = atoi(argc[1]);\n",
        "        if (argv > 2){\n",
        "            blockSize = atoi(argc[2]);\n",
        "        }\n",
        "    }\n",
        "\n",
        "    block.x = blockSize;\n",
        "    block.y = 1;\n",
        "    block.z = 1;\n",
        "\n",
        "    grid.x = (nElem *nElem + block.x - 1)/block.x;\n",
        "    grid.y = 1;\n",
        "    grid.z = 1;\n",
        "\n",
        "    cudaMalloc(&d_A, nElem * nElem * sizeof(TYPE));\n",
        "    cudaMalloc(&d_B, nElem * nElem * sizeof(TYPE));\n",
        "    cudaMalloc(&d_C, nElem * nElem * sizeof(TYPE));\n",
        "    h_A = (TYPE*) malloc(nElem * nElem * sizeof(TYPE));\n",
        "    h_B = (TYPE*) malloc(nElem * nElem * sizeof(TYPE));\n",
        "    C_Cuda = (TYPE*) malloc(nElem * nElem * sizeof(TYPE));\n",
        "\n",
        "    generateRandMatrix(h_A, nElem);\n",
        "    generateRandMatrix(h_B, nElem);\n",
        "\n",
        "    cudaMemcpy(d_A, h_A, nElem * nElem * sizeof(TYPE), cudaMemcpyHostToDevice);\n",
        "    cudaMemcpy(d_B, h_B, nElem * nElem * sizeof(TYPE), cudaMemcpyHostToDevice);\n",
        "    cudaEventRecord(start, 0);\n",
        "    multMatricesGPU<<< grid, block >>>(d_A, d_B, d_C, nElem);\n",
        "    cudaEventRecord(stop, 0);\n",
        "    cudaEventSynchronize(stop);\n",
        "    cudaEventElapsedTime(&elapsedTime, start, stop);\n",
        "    cudaMemcpy(C_Cuda, d_C, nElem * nElem * sizeof(TYPE), cudaMemcpyDeviceToHost);\n",
        "\n",
        "    printf(\"%f\\n\", elapsedTime);\n",
        "\n",
        "    cudaFree(d_A);\n",
        "    cudaFree(d_B);\n",
        "    cudaFree(d_C);\n",
        "    free(h_A);\n",
        "    free(h_B);\n",
        "    free(C_Cuda);\n",
        "    cudaEventDestroy(start);\n",
        "    cudaEventDestroy(stop);\n",
        "}\n",
        "\n",
        "// Calculate the multiplication of matrices with CUDA support.\n",
        "__global__ void multMatricesGPU(TYPE *matrixA, TYPE *matrixB, TYPE *matrixC, int nElem){\n",
        "    unsigned int idx = blockDim.x * blockIdx.x + threadIdx.x;\n",
        "    unsigned int x = idx / nElem;\n",
        "    unsigned int y = idx % nElem;\n",
        "    int i;\n",
        "    TYPE sum = 0.0;\n",
        "\n",
        "    if(x < nElem && y < nElem){\n",
        "        for (i = 0; i < nElem; i++){\n",
        "            sum += matrixA[x * nElem + i] * matrixB[i * nElem + y];\n",
        "        }\n",
        "    }\n",
        "\n",
        "    matrixC[x * nElem + y] = sum;\n",
        "}\n",
        "\n",
        "void showMatrix(TYPE *matrix, int nElem){\n",
        "    int i;\n",
        "\n",
        "    for (i = 0; i < nElem * nElem; i++){\n",
        "        printf(\"%f \", matrix[i]);\n",
        "    }\n",
        "\n",
        "    printf(\"\\n\");\n",
        "}\n",
        "\n",
        "// Generate Matrix with TYPE values between [0...1000]\n",
        "void generateRandMatrix(TYPE *matrix, int nElem){\n",
        "    int i;\n",
        "    int tam = nElem * nElem;\n",
        "    unsigned int seed = time(NULL);\n",
        "\n",
        "    #pragma omp parallel for\n",
        "    for (i = 0; i < tam; i++){\n",
        "        matrix[i] = ((TYPE) rand_r(&seed) / (TYPE) RAND_MAX) * 1000;\n",
        "    }\n",
        "}\n"
      ]
    },
    {
      "cell_type": "code",
      "execution_count": 5,
      "metadata": {
        "id": "J9_BcKgYisc_"
      },
      "outputs": [],
      "source": [
        "! nvcc files/mm_cuda_1d.cu -o files/mm_cuda_1d-prog\n",
        "! ./files/mm_cuda_1d-prog 2048 1 > files/cuda_1D_2048_1.out\n",
        "! ./files/mm_cuda_1d-prog 2048 4 > files/cuda_1D_2048_4.out\n",
        "! ./files/mm_cuda_1d-prog 2048 16 > files/cuda_1D_2048_16.out\n",
        "! ./files/mm_cuda_1d-prog 2048 64 > files/cuda_1D_2048_64.out\n",
        "! ./files/mm_cuda_1d-prog 2048 256 > files/cuda_1D_2048_256.out\n",
        "! ./files/mm_cuda_1d-prog 2048 1024 > files/cuda_1D_2048_1024.out"
      ]
    },
    {
      "cell_type": "code",
      "execution_count": 6,
      "metadata": {
        "id": "uytjOL-Disc_"
      },
      "outputs": [
        {
          "name": "stdout",
          "output_type": "stream",
          "text": [
            "[5099.526855, 1417.748535, 674.907471, 674.077209, 672.01593, 636.809143, 5293.214355, 1377.888916, 415.449371, 368.547668, 619.713013, 621.914673]\n"
          ]
        },
        {
          "data": {
            "image/png": "[encoded data removed]",
            "text/plain": [
              "<Figure size 640x480 with 1 Axes>"
            ]
          },
          "metadata": {},
          "output_type": "display_data"
        }
      ],
      "source": [
        "import matplotlib.pyplot as plt\n",
        "\n",
        "files = [\n",
        "    'cuda_1D_2048_1',\n",
        "    'cuda_1D_2048_4',\n",
        "    'cuda_1D_2048_16',\n",
        "    'cuda_1D_2048_64',\n",
        "    'cuda_1D_2048_256',\n",
        "    'cuda_1D_2048_1024',\n",
        "    'cuda_2D_2048_1',\n",
        "    'cuda_2D_2048_2',\n",
        "    'cuda_2D_2048_4',\n",
        "    'cuda_2D_2048_8',\n",
        "    'cuda_2D_2048_16',\n",
        "    'cuda_2D_2048_32',\n",
        "]\n",
        "measuredTime = []\n",
        "sizes = ['1', '4', '16', '64', '256', '1024']\n",
        "\n",
        "for file in files:\n",
        "    openFile = open(f'files/{file}.out', 'r')\n",
        "    measuredTime.append(float(openFile.read()))\n",
        "\n",
        "print(measuredTime)\n",
        "\n",
        "fig, ax = plt.subplots()\n",
        "ax.plot(sizes, measuredTime[0:6], label=\"CUDA 1D block\")\n",
        "ax.legend()\n",
        "ax.plot(sizes, measuredTime[6:12], label=\"CUDA 2D block\")\n",
        "ax.legend()\n",
        "plt.show()"
      ]
    }
  ],
  "metadata": {
    "accelerator": "GPU",
    "colab": {
      "provenance": []
    },
    "kernelspec": {
      "display_name": "PPD",
      "language": "python",
      "name": "python3"
    },
    "language_info": {
      "codemirror_mode": {
        "name": "ipython",
        "version": 3
      },
      "file_extension": ".py",
      "mimetype": "text/x-python",
      "name": "python",
      "nbconvert_exporter": "python",
      "pygments_lexer": "ipython3",
      "version": "3.10.9"
    },
    "vscode": {
      "interpreter": {
        "hash": "a7c43bec229f3d3a2d2d7312adcc966c46c90793e42163b1bb0daa9557429210"
      }
    }
  },
  "nbformat": 4,
  "nbformat_minor": 0
}
